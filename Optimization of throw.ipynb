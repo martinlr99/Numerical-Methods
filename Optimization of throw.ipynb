{
 "cells": [
  {
   "cell_type": "markdown",
   "id": "e4b7374f",
   "metadata": {},
   "source": [
    "# Problem 1:\n",
    "\n",
    "## $$ y''(x, t) = -g $$\n",
    "\n",
    "### a) deriving the analytical solution of the IVP\n",
    "\n",
    "When deriving the analytical solution of the IVP, I assume g to be constant in both x and t. \n",
    "\n",
    "Integrating both sides with respect to time yields:\n",
    "$$ \\int y'' dt = \\int -g dt $$\n",
    "\n",
    "$$ \\int y' dt = \\int (-g t + C _1) dt $$\n",
    "\n",
    "$$ y = -\\frac{1}{2}g t^2 + C _1 t + C _2  $$\n",
    "\n",
    "Our initial conditions: \n",
    "$$ y(0,0) = 0 $$\n",
    "\n",
    "$$ y'(0,0) = v _{0,y} $$\n",
    "\n",
    "These conditions state that:\n",
    "$$ C _1 = v _{0,y} $$\n",
    "\n",
    "$$ C _2 = 0 $$\n",
    "\n",
    "Which yields the following solution to the IVP:\n",
    "$$ y = -\\frac{1}{2}g t^2 + v _{0,y} * t  $$\n",
    "\n",
    "When decomposing the v0 vector, we can rephrase it in x and y: \n",
    "\n",
    "$$ v _{0,x} = v _0 * \\cos(\\theta) $$\n",
    "\n",
    "$$ v _{0,y} = v _0 * \\sin(\\theta) $$\n",
    "\n",
    "Where $\\theta$ is the starting angle of the throw.\n",
    "\n",
    "### b) stating the length of the throw\n",
    "\n",
    "We now know the velocity in x-direction, and we can easily state the length of our throw:\n",
    "\n",
    "$$ L = v _0 * \\cos(\\theta) * t $$\n",
    "\n",
    "\n",
    "### c) minimization problem of the length\n",
    "\n",
    "We want to **maximize** the length of our throw. Which is equivalent to minimizing \n",
    "$$ (-1) * L $$\n",
    "\n",
    "We bound $t$ and $\\theta$ in the following way:\n",
    "$$ 0 < t < \\infty $$\n",
    "\n",
    "$$ 0 \\leq \\theta \\leq \\frac{\\pi}{2}$$\n",
    "\n",
    "And for our problem to work in a logical way, we don't want the ball to go under the ground.\n",
    "Therefore, we constrain y to 0: \n",
    "$$ y = 0 $$"
   ]
  },
  {
   "cell_type": "code",
   "execution_count": 1,
   "id": "8ce5304b",
   "metadata": {},
   "outputs": [
    {
     "name": "stdout",
     "output_type": "stream",
     "text": [
      "The maximized length of the throw is: 40.775 m\n",
      "and the angle of the throw is 45.0*.\n"
     ]
    },
    {
     "data": {
      "image/png": "[encoded data removed]",
      "text/plain": [
       "<Figure size 432x288 with 1 Axes>"
      ]
     },
     "metadata": {
      "needs_background": "light"
     },
     "output_type": "display_data"
    }
   ],
   "source": [
    "import numpy as np\n",
    "import matplotlib.pyplot as plt\n",
    "from scipy import optimize\n",
    "\n",
    "v0 = 20 # [m/s]\n",
    "g = 9.81 # [m/s^2]\n",
    "\n",
    "\n",
    "def y(liste):\n",
    "    t = liste[0]\n",
    "    theta = liste[1]\n",
    "    \n",
    "    return (-1/2)*9.81*t**2 + np.sin(theta)*v0*t\n",
    "\n",
    "def lengde(liste):\n",
    "    t = liste[0]\n",
    "    theta = liste[1]\n",
    "    vx = v0 * np.cos(theta)\n",
    "    \n",
    "    length = vx*t\n",
    "    return -length\n",
    "\n",
    "def Problem1():\n",
    "    #Bounding time and theta\n",
    "    bnds = [(0,None),(0,np.pi/2)]\n",
    "    \n",
    "    #Constraining y to 0, so that the ball is above the ground\n",
    "    cnstr = {\"type\": \"eq\", \"fun\": y}\n",
    "    \n",
    "    #Using minimize to optimize length*(-1) (aka maximize)\n",
    "    res = optimize.minimize(lengde,[3,np.pi/4],method=\"SLSQP\",bounds=bnds, constraints=cnstr)\n",
    "    print(f\"The maximized length of the throw is: {round(lengde(res.x)*(-1),3)} m\\nand the angle of the throw is {round(res.x[1]*180/np.pi,2)}*.\")\n",
    "\n",
    "    #Using optimized theta to plot the trajectory at different times\n",
    "    optVec = res.x\n",
    "    time = np.linspace(0,optVec[0],100)\n",
    "    x = lengde([time,optVec[1]])*(-1)\n",
    "    y_plot = y([time,optVec[1]])\n",
    "\n",
    "    #Plotting the ball trajectory\n",
    "    plt.plot(x,y_plot, label=\"Trajectory\")\n",
    "    plt.xlabel(\"Length [m]\")\n",
    "    plt.ylabel(\"Height [m]\")\n",
    "    plt.grid()\n",
    "    plt.legend()\n",
    "    plt.show()\n",
    "\n",
    "Problem1()"
   ]
  },
  {
   "cell_type": "markdown",
   "id": "69b70a39",
   "metadata": {},
   "source": [
    "# Problem 2\n",
    "\n",
    "### Euler's method\n",
    "\n",
    "$$ y _{n+1} = y _n + h*f(x _n, y _n)$$ \n",
    "\n",
    "Which in this case are vectors with two elements\n",
    "\n",
    "$$ \\left( \\begin{array}{c} y \\\\ y' \\end{array}\\right)' = \\left( \\begin{array}{c} y' \\\\ -g \\end{array}\\right)  $$\n",
    "\n",
    "Where the right side of this equation corresponds to **f** in Euler's method.\n",
    "\n",
    "And we know that $ y _0 = 0 $ and $ y' _0 = v _{0,y} $, which will be the starting values. \n",
    "\n",
    "\n",
    "\n"
   ]
  },
  {
   "cell_type": "code",
   "execution_count": 2,
   "id": "46d17951",
   "metadata": {},
   "outputs": [
    {
     "name": "stdout",
     "output_type": "stream",
     "text": [
      "The maximized length of the throw is: 41.191 m\n",
      "and the angle of the throw is 45.0*.\n"
     ]
    },
    {
     "data": {
      "image/png": "[encoded data removed]",
      "text/plain": [
       "<Figure size 432x288 with 1 Axes>"
      ]
     },
     "metadata": {
      "needs_background": "light"
     },
     "output_type": "display_data"
    }
   ],
   "source": [
    "#Problem2\n",
    "\n",
    "#Defining euler functions and numerical y and x\n",
    "def eulerY(T,theta):\n",
    "    y = [0]\n",
    "    v0y = [v0*np.sin(theta)]\n",
    "    \n",
    "    dt = T[1]-T[0]\n",
    "    \n",
    "    for j in range(len(T)-1):\n",
    "        y.append(y[-1] + dt*v0y[-1])\n",
    "        v0y.append(v0y[-1] - dt*g)\n",
    "    return y, v0y\n",
    "\n",
    "def y_num(liste):\n",
    "    T = np.linspace(0,liste[0],100)\n",
    "    theta = liste[1]\n",
    "    y, v0y = eulerY(T,theta)\n",
    "    return y[-1]\n",
    "\n",
    "def eulerX(T,theta):\n",
    "    x = [0]\n",
    "    v0x = v0*np.cos(theta)\n",
    "    dt = T[1]-T[0]\n",
    "    \n",
    "    for j in range(len(T)-1):\n",
    "        x.append(x[-1] - dt*v0x)\n",
    "    \n",
    "    return x\n",
    "\n",
    "def x_num(liste):\n",
    "    T = np.linspace(0,liste[0],100)\n",
    "    theta = liste[1]\n",
    "    x = eulerX(T,theta)\n",
    "    return x[-1]\n",
    "\n",
    "def Problem2():\n",
    "    #bounding and constraining as earlier\n",
    "    bnds = [(0,None),(0,np.pi/2)]\n",
    "    cnstr = {\"type\": \"eq\", \"fun\": y_num}\n",
    "    \n",
    "    #Optimizing the throw using minimize, and the numerical x\n",
    "    res = optimize.minimize(x_num,[5,np.pi/4],method=\"SLSQP\",bounds=bnds, constraints=cnstr)\n",
    "    print(f\"The maximized length of the throw is: {round(x_num(res.x)*(-1),3)} m\\nand the angle of the throw is {round(res.x[1]*180/np.pi,2)}*.\")\n",
    "    \n",
    "    \n",
    "    #Setting x and y to plot using the optimized theta at different times\n",
    "    optVec = res.x\n",
    "    time = np.linspace(0,optVec[0],100)\n",
    "    x = x_num([time,optVec[1]])*(-1)\n",
    "    y_plot = y_num([time,optVec[1]])\n",
    "    \n",
    "\n",
    "\n",
    "    #Plotting the ball trajectory\n",
    "    plt.plot(x,y_plot, label=\"Trajectory\")\n",
    "    plt.xlabel(\"Length [m]\")\n",
    "    plt.ylabel(\"Height [m]\")\n",
    "    plt.grid()\n",
    "    plt.legend()\n",
    "    plt.show()\n",
    "    \n",
    "Problem2()\n",
    "    \n",
    "    "
   ]
  },
  {
   "cell_type": "markdown",
   "id": "418c1ee6",
   "metadata": {},
   "source": [
    "# Problem 3\n",
    "\n",
    "### a) formulating the new minimization problem\n",
    "\n",
    "The issue that needs to be handled: the roof will block the ball at $ y = 6$ m\n",
    "\n",
    "We need to introduce a new limit to y:\n",
    "$$ y \\leq 6 $$\n",
    "\n",
    "This is equivalent of constraining the highest value of y to be under 6 m.\n",
    "\n",
    "In order to implement this, we make a new function **ynum_new_constraint** which returns $6 - y[len(y)/2]$. After that, we *ineq*-constrain this function. In this way, the maximum value of y will never exceed 6 m. \n",
    "\n"
   ]
  },
  {
   "cell_type": "code",
   "execution_count": 3,
   "id": "a8b651ac",
   "metadata": {},
   "outputs": [
    {
     "name": "stdout",
     "output_type": "stream",
     "text": [
      "The maximized length of the throw is: 37.321 m\n",
      "and the angle of the throw is 32.48*.\n"
     ]
    },
    {
     "data": {
      "image/png": "[encoded data removed]",
      "text/plain": [
       "<Figure size 432x288 with 1 Axes>"
      ]
     },
     "metadata": {
      "needs_background": "light"
     },
     "output_type": "display_data"
    }
   ],
   "source": [
    "#Problem 3\n",
    "\n",
    "#Im gonna use some of my functions from Problem2 to do this one\n",
    "\n",
    "def eulerY3(T,theta):\n",
    "    y = [0]\n",
    "    v0y = [v0*np.sin(theta)] \n",
    "    dt = T[1]-T[0]\n",
    "    \n",
    "    for j in range(len(T)-1):\n",
    "        y.append(y[-1] + dt*v0y[-1])\n",
    "        v0y.append(v0y[-1] - dt*g)\n",
    "        #print(y[j])\n",
    "    return y, v0y\n",
    "\n",
    "def y_num3(liste):\n",
    "    T = np.linspace(0,liste[0],100)\n",
    "    theta = liste[1]\n",
    "    y, v0y = eulerY3(T,theta)\n",
    "    return y[-1]\n",
    "\n",
    "def ynum_new_constraint(liste):\n",
    "    T = np.linspace(0,liste[0],100)\n",
    "    theta = liste[1]\n",
    "    y, v0y = eulerY3(T,theta)\n",
    "    return 6-y[int(len(y)/2)]\n",
    "\n",
    "\n",
    "def Problem3():\n",
    "    #bounding and constraining as earlier\n",
    "    bnds = [(0,None),(0,np.pi/2)]\n",
    "    cnstr = [{\"type\": \"eq\", \"fun\": y_num3},{\"type\": \"ineq\", \"fun\": ynum_new_constraint}]\n",
    "    \n",
    "    #Optimizing the throw using minimize, and the numerical x\n",
    "    res = optimize.minimize(x_num,[3,np.pi/7],method=\"SLSQP\",bounds=bnds, constraints=cnstr)\n",
    "    print(f\"The maximized length of the throw is: {round(x_num(res.x)*(-1),3)} m\\nand the angle of the throw is {round(res.x[1]*180/np.pi,2)}*.\")\n",
    "    \n",
    "    \n",
    "    #Setting x and y to plot using the optimized theta at different times\n",
    "    optVec = res.x\n",
    "    time = np.linspace(0,optVec[0],100)\n",
    "    x = x_num([time,optVec[1]])*(-1)\n",
    "    y_plot = y_num3([time,optVec[1]])\n",
    "    \n",
    "\n",
    "\n",
    "    #Plotting the ball trajectory\n",
    "    plt.plot(x,y_plot, label=\"Trajectory\")\n",
    "    plt.xlabel(\"Length [m]\")\n",
    "    plt.ylabel(\"Height [m]\")\n",
    "    plt.grid()\n",
    "    plt.legend()\n",
    "    plt.show()\n",
    "    \n",
    "Problem3()"
   ]
  },
  {
   "cell_type": "code",
   "execution_count": null,
   "id": "0f1e0e54",
   "metadata": {},
   "outputs": [],
   "source": []
  }
 ],
 "metadata": {
  "kernelspec": {
   "display_name": "Python 3",
   "language": "python",
   "name": "python3"
  },
  "language_info": {
   "codemirror_mode": {
    "name": "ipython",
    "version": 3
   },
   "file_extension": ".py",
   "mimetype": "text/x-python",
   "name": "python",
   "nbconvert_exporter": "python",
   "pygments_lexer": "ipython3",
   "version": "3.8.8"
  }
 },
 "nbformat": 4,
 "nbformat_minor": 5
}
